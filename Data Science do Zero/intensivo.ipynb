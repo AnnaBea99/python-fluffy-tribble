{
 "cells": [
  {
   "cell_type": "code",
   "execution_count": null,
   "id": "bd54a07f",
   "metadata": {},
   "outputs": [],
   "source": [
    "for i in [1,2,3,4,5]:\n",
    "    print(i)\n",
    "    for j in [1,2,3,4,5]:\n",
    "        print(j)\n",
    "        print(i+j)\n",
    "    print(i)\n",
    "print('done looping')"
   ]
  },
  {
   "cell_type": "code",
   "execution_count": 4,
   "id": "500a1209",
   "metadata": {},
   "outputs": [],
   "source": [
    "# Matriz\n",
    "list_of_list = [[1,2,3], [4,5,6], [7,8,9]]\n",
    "easier_to_read_list_of_lists = [[1,2,3], \n",
    "                                [4,5,6], \n",
    "                                [7,8,9]]"
   ]
  },
  {
   "cell_type": "code",
   "execution_count": null,
   "id": "4665242a",
   "metadata": {},
   "outputs": [
    {
     "name": "stdout",
     "output_type": "stream",
     "text": [
      "re.compile('[0-9]', re.IGNORECASE)\n"
     ]
    }
   ],
   "source": [
    "import re\n",
    "my_regex = re.compile(\"[0-9]\", re.I)\n",
    "\n",
    "print(my_regex)\n",
    "\n",
    "import re as regex\n",
    "my_regex = regex.compile(\"[0-9]\", regex.I)\n"
   ]
  },
  {
   "cell_type": "code",
   "execution_count": 12,
   "id": "97147374",
   "metadata": {},
   "outputs": [
    {
     "name": "stdout",
     "output_type": "stream",
     "text": [
      "2\n",
      "5\n"
     ]
    }
   ],
   "source": [
    "def double(x):\n",
    "    \n",
    "    return x * 2\n",
    "\n",
    "def apply_to_one(f):\n",
    "\n",
    "    return f(1)\n",
    "\n",
    "my_double = double\n",
    "x = apply_to_one(my_double)\n",
    "\n",
    "print(x)\n",
    "\n",
    "\n",
    "# lambda\n",
    "y = apply_to_one(lambda x: x + 4)\n",
    "print(y)"
   ]
  }
 ],
 "metadata": {
  "kernelspec": {
   "display_name": "base",
   "language": "python",
   "name": "python3"
  },
  "language_info": {
   "codemirror_mode": {
    "name": "ipython",
    "version": 3
   },
   "file_extension": ".py",
   "mimetype": "text/x-python",
   "name": "python",
   "nbconvert_exporter": "python",
   "pygments_lexer": "ipython3",
   "version": "3.12.7"
  }
 },
 "nbformat": 4,
 "nbformat_minor": 5
}
