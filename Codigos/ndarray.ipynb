{
 "cells": [
  {
   "cell_type": "code",
   "execution_count": null,
   "id": "a6eaeabb",
   "metadata": {},
   "outputs": [],
   "source": [
    "import numpy as np\n"
   ]
  },
  {
   "cell_type": "code",
   "execution_count": null,
   "id": "0e29d5a0",
   "metadata": {},
   "outputs": [],
   "source": [
    "dados = np.random.rand(2,3)"
   ]
  },
  {
   "cell_type": "code",
   "execution_count": null,
   "id": "a4ced04b",
   "metadata": {},
   "outputs": [],
   "source": [
    "dados"
   ]
  },
  {
   "cell_type": "code",
   "execution_count": null,
   "id": "e3d04364",
   "metadata": {},
   "outputs": [],
   "source": [
    "dados.dtype"
   ]
  },
  {
   "cell_type": "code",
   "execution_count": null,
   "id": "604fe0d2",
   "metadata": {},
   "outputs": [],
   "source": [
    "dados.shape"
   ]
  },
  {
   "cell_type": "code",
   "execution_count": null,
   "id": "d5c5f597",
   "metadata": {},
   "outputs": [],
   "source": [
    "dados.ndim"
   ]
  },
  {
   "cell_type": "code",
   "execution_count": null,
   "id": "bbd21116",
   "metadata": {},
   "outputs": [],
   "source": [
    "lista = [1,2,5,7.8,1.25]"
   ]
  },
  {
   "cell_type": "code",
   "execution_count": null,
   "id": "62917851",
   "metadata": {},
   "outputs": [],
   "source": [
    "dados2 = np.array(lista)"
   ]
  },
  {
   "cell_type": "code",
   "execution_count": null,
   "id": "2ccd1e0b",
   "metadata": {},
   "outputs": [],
   "source": [
    "dados2"
   ]
  },
  {
   "cell_type": "code",
   "execution_count": null,
   "id": "8ca04f95",
   "metadata": {},
   "outputs": [],
   "source": [
    "lista2 = [[1,2,3,4], [4,3,2,1]]"
   ]
  },
  {
   "cell_type": "code",
   "execution_count": null,
   "id": "5c8fdaaa",
   "metadata": {},
   "outputs": [],
   "source": [
    "dados3 = np.array(lista2)"
   ]
  },
  {
   "cell_type": "code",
   "execution_count": null,
   "id": "85391ab1",
   "metadata": {},
   "outputs": [],
   "source": [
    "dados3"
   ]
  },
  {
   "cell_type": "code",
   "execution_count": null,
   "id": "3458c36f",
   "metadata": {},
   "outputs": [],
   "source": [
    "dadoszero = np.zeros(10)"
   ]
  },
  {
   "cell_type": "code",
   "execution_count": null,
   "id": "11079e87",
   "metadata": {},
   "outputs": [],
   "source": [
    "dadoszero"
   ]
  },
  {
   "cell_type": "code",
   "execution_count": null,
   "id": "63cd0d7f",
   "metadata": {},
   "outputs": [],
   "source": [
    "dadoszero2 = np.zeros((2,3))"
   ]
  },
  {
   "cell_type": "code",
   "execution_count": null,
   "id": "18afcf26",
   "metadata": {},
   "outputs": [],
   "source": [
    "dadoszero2"
   ]
  },
  {
   "cell_type": "code",
   "execution_count": null,
   "id": "526aa558",
   "metadata": {},
   "outputs": [],
   "source": [
    "dadosum = np.ones(5)"
   ]
  },
  {
   "cell_type": "code",
   "execution_count": null,
   "id": "c66b8d55",
   "metadata": {},
   "outputs": [],
   "source": [
    "dadosum"
   ]
  },
  {
   "cell_type": "code",
   "execution_count": null,
   "id": "1310f45f",
   "metadata": {},
   "outputs": [],
   "source": [
    "dadosseq = np.arange(10)"
   ]
  },
  {
   "cell_type": "code",
   "execution_count": null,
   "id": "86422f70",
   "metadata": {},
   "outputs": [],
   "source": [
    "dadosseq"
   ]
  },
  {
   "cell_type": "code",
   "execution_count": null,
   "id": "c13fc7c8",
   "metadata": {},
   "outputs": [],
   "source": [
    "dadosseq2 = np.arange(0,20,2)"
   ]
  },
  {
   "cell_type": "code",
   "execution_count": null,
   "id": "f81e725a",
   "metadata": {},
   "outputs": [],
   "source": [
    "dadosseq2"
   ]
  },
  {
   "cell_type": "code",
   "execution_count": null,
   "id": "6d274d96",
   "metadata": {},
   "outputs": [],
   "source": [
    "dadosseqf = dadosseq.astype(np.float64)"
   ]
  },
  {
   "cell_type": "code",
   "execution_count": null,
   "id": "44e0bc0e",
   "metadata": {},
   "outputs": [],
   "source": [
    "dadosseqf"
   ]
  },
  {
   "cell_type": "code",
   "execution_count": null,
   "id": "e0c6d5c9",
   "metadata": {},
   "outputs": [],
   "source": [
    "dadosseqf.dtype"
   ]
  },
  {
   "cell_type": "markdown",
   "id": "1050c842",
   "metadata": {},
   "source": [
    "Aritmética com Arrays"
   ]
  },
  {
   "cell_type": "code",
   "execution_count": null,
   "id": "b66969bb",
   "metadata": {},
   "outputs": [],
   "source": [
    "da4 = np.array([[1,2,3],[4,5,6]])"
   ]
  },
  {
   "cell_type": "code",
   "execution_count": null,
   "id": "edcf7e83",
   "metadata": {},
   "outputs": [],
   "source": [
    "da4"
   ]
  },
  {
   "cell_type": "code",
   "execution_count": null,
   "id": "53deea78",
   "metadata": {},
   "outputs": [],
   "source": [
    "da4*da4"
   ]
  },
  {
   "cell_type": "code",
   "execution_count": null,
   "id": "c1c10080",
   "metadata": {},
   "outputs": [],
   "source": [
    "da4-da4"
   ]
  },
  {
   "cell_type": "code",
   "execution_count": null,
   "id": "0e3378d7",
   "metadata": {},
   "outputs": [],
   "source": [
    "1/da4"
   ]
  },
  {
   "cell_type": "code",
   "execution_count": null,
   "id": "041c8bb1",
   "metadata": {},
   "outputs": [],
   "source": [
    "d5 = da4 + da4"
   ]
  },
  {
   "cell_type": "code",
   "execution_count": null,
   "id": "f14dc25d",
   "metadata": {},
   "outputs": [],
   "source": [
    "d5"
   ]
  },
  {
   "cell_type": "code",
   "execution_count": null,
   "id": "3d0db51f",
   "metadata": {},
   "outputs": [],
   "source": [
    "da4"
   ]
  },
  {
   "cell_type": "code",
   "execution_count": null,
   "id": "38ed14fc",
   "metadata": {},
   "outputs": [],
   "source": [
    "d5>da4"
   ]
  },
  {
   "cell_type": "markdown",
   "id": "3a21b6f7",
   "metadata": {},
   "source": [
    "Indexação"
   ]
  },
  {
   "cell_type": "code",
   "execution_count": null,
   "id": "099003a7",
   "metadata": {},
   "outputs": [],
   "source": [
    "dadosseq"
   ]
  },
  {
   "cell_type": "code",
   "execution_count": null,
   "id": "aeefdf86",
   "metadata": {},
   "outputs": [],
   "source": [
    "dadosseq[5]"
   ]
  },
  {
   "cell_type": "markdown",
   "id": "d71d0aa2",
   "metadata": {},
   "source": [
    "Diferente de uma lista python, um recorte (fatia) de ndarray sofrerá broadcast - é como se fosse uma view de banco de dados.\n",
    "\n",
    "Com conjuntos imensos de dados isso é uma grande vantagem em relação a performance"
   ]
  },
  {
   "cell_type": "code",
   "execution_count": null,
   "id": "6a6d176d",
   "metadata": {},
   "outputs": [],
   "source": [
    "dadosseq[3:6]"
   ]
  },
  {
   "cell_type": "code",
   "execution_count": null,
   "id": "718dc237",
   "metadata": {},
   "outputs": [],
   "source": [
    "dadosseq[3:6]=20"
   ]
  },
  {
   "cell_type": "code",
   "execution_count": null,
   "id": "d69c7613",
   "metadata": {},
   "outputs": [],
   "source": [
    "dadosseq"
   ]
  },
  {
   "cell_type": "code",
   "execution_count": null,
   "id": "30eae758",
   "metadata": {},
   "outputs": [],
   "source": [
    "fatia = dadosseq[2:4]"
   ]
  },
  {
   "cell_type": "code",
   "execution_count": null,
   "id": "fb464bbf",
   "metadata": {},
   "outputs": [],
   "source": [
    "fatia"
   ]
  },
  {
   "cell_type": "code",
   "execution_count": null,
   "id": "73a9f275",
   "metadata": {},
   "outputs": [],
   "source": [
    "fatia[1]=2000"
   ]
  },
  {
   "cell_type": "code",
   "execution_count": null,
   "id": "082277f5",
   "metadata": {},
   "outputs": [],
   "source": [
    "fatia"
   ]
  },
  {
   "cell_type": "code",
   "execution_count": null,
   "id": "e5574dcd",
   "metadata": {},
   "outputs": [],
   "source": [
    "dadosseq"
   ]
  },
  {
   "cell_type": "code",
   "execution_count": null,
   "id": "734507d3",
   "metadata": {},
   "outputs": [],
   "source": [
    "fatia[:]=333"
   ]
  },
  {
   "cell_type": "code",
   "execution_count": null,
   "id": "738e1d47",
   "metadata": {},
   "outputs": [],
   "source": [
    "dadosseq"
   ]
  },
  {
   "cell_type": "markdown",
   "id": "686d43d9",
   "metadata": {},
   "source": [
    "Copiar dados"
   ]
  },
  {
   "cell_type": "code",
   "execution_count": null,
   "id": "c0ed5977",
   "metadata": {},
   "outputs": [],
   "source": [
    "f2 = dadosseq[2:4].copy()"
   ]
  },
  {
   "cell_type": "code",
   "execution_count": null,
   "id": "1bf3eb6c",
   "metadata": {},
   "outputs": [],
   "source": [
    "f2[:]=111"
   ]
  },
  {
   "cell_type": "code",
   "execution_count": null,
   "id": "6fd8511c",
   "metadata": {},
   "outputs": [],
   "source": [
    "f2"
   ]
  },
  {
   "cell_type": "code",
   "execution_count": null,
   "id": "df6a5ea4",
   "metadata": {},
   "outputs": [],
   "source": [
    "dadosseq"
   ]
  },
  {
   "cell_type": "markdown",
   "id": "4964bcff",
   "metadata": {},
   "source": [
    "Array com mais de uma dimensão"
   ]
  },
  {
   "cell_type": "code",
   "execution_count": null,
   "id": "f0451620",
   "metadata": {},
   "outputs": [],
   "source": [
    "d6 = np.array([[1,2,3], [4,5,6], [7,8,9]])"
   ]
  },
  {
   "cell_type": "code",
   "execution_count": null,
   "id": "a2bfa61a",
   "metadata": {},
   "outputs": [],
   "source": [
    "d6"
   ]
  },
  {
   "cell_type": "code",
   "execution_count": null,
   "id": "cd1ba4a3",
   "metadata": {},
   "outputs": [],
   "source": [
    "d6[1:2]"
   ]
  },
  {
   "cell_type": "markdown",
   "id": "8cbedc90",
   "metadata": {},
   "source": [
    "Máscaras"
   ]
  },
  {
   "cell_type": "code",
   "execution_count": null,
   "id": "9b51427a",
   "metadata": {},
   "outputs": [],
   "source": [
    "dadosseq"
   ]
  },
  {
   "cell_type": "code",
   "execution_count": null,
   "id": "a94a62db",
   "metadata": {},
   "outputs": [],
   "source": [
    "masc = (dadosseq < 100)"
   ]
  },
  {
   "cell_type": "code",
   "execution_count": null,
   "id": "8516efb0",
   "metadata": {},
   "outputs": [],
   "source": [
    "masc"
   ]
  },
  {
   "cell_type": "code",
   "execution_count": null,
   "id": "9bbba869",
   "metadata": {},
   "outputs": [],
   "source": [
    "dadosseq[dadosseq<20]=8888 "
   ]
  },
  {
   "cell_type": "code",
   "execution_count": null,
   "id": "b3e36dae",
   "metadata": {},
   "outputs": [],
   "source": [
    "dadosseq"
   ]
  },
  {
   "cell_type": "markdown",
   "id": "33c289c1",
   "metadata": {},
   "source": [
    "Transposição"
   ]
  },
  {
   "cell_type": "code",
   "execution_count": null,
   "id": "0a357b06",
   "metadata": {},
   "outputs": [],
   "source": [
    "d7 = np.arange(15).reshape((3,5))"
   ]
  },
  {
   "cell_type": "code",
   "execution_count": null,
   "id": "23c54a8a",
   "metadata": {},
   "outputs": [],
   "source": [
    "d7"
   ]
  },
  {
   "cell_type": "code",
   "execution_count": null,
   "id": "d3a6c5ed",
   "metadata": {},
   "outputs": [],
   "source": [
    "d7.T"
   ]
  },
  {
   "cell_type": "markdown",
   "id": "52a4612a",
   "metadata": {},
   "source": [
    "Multiplicação de matrzies com Dots"
   ]
  },
  {
   "cell_type": "code",
   "execution_count": null,
   "id": "8dfdd640",
   "metadata": {},
   "outputs": [],
   "source": [
    "np.dot(d7.T, d7)"
   ]
  }
 ],
 "metadata": {
  "kernelspec": {
   "display_name": "base",
   "language": "python",
   "name": "python3"
  },
  "language_info": {
   "codemirror_mode": {
    "name": "ipython",
    "version": 3
   },
   "file_extension": ".py",
   "mimetype": "text/x-python",
   "name": "python",
   "nbconvert_exporter": "python",
   "pygments_lexer": "ipython3",
   "version": "3.12.7"
  }
 },
 "nbformat": 4,
 "nbformat_minor": 5
}
