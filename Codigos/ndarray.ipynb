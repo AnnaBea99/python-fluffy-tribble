{
 "cells": [
  {
   "cell_type": "code",
   "execution_count": 1,
   "id": "a6eaeabb",
   "metadata": {},
   "outputs": [],
   "source": [
    "import numpy as np\n"
   ]
  },
  {
   "cell_type": "code",
   "execution_count": 6,
   "id": "0e29d5a0",
   "metadata": {},
   "outputs": [],
   "source": [
    "dados = np.random.rand(2,3)"
   ]
  },
  {
   "cell_type": "code",
   "execution_count": 7,
   "id": "a4ced04b",
   "metadata": {},
   "outputs": [
    {
     "data": {
      "text/plain": [
       "array([[0.74306919, 0.31839324, 0.83360863],\n",
       "       [0.54373026, 0.01669694, 0.6009415 ]])"
      ]
     },
     "execution_count": 7,
     "metadata": {},
     "output_type": "execute_result"
    }
   ],
   "source": [
    "dados"
   ]
  },
  {
   "cell_type": "code",
   "execution_count": 8,
   "id": "e3d04364",
   "metadata": {},
   "outputs": [
    {
     "data": {
      "text/plain": [
       "dtype('float64')"
      ]
     },
     "execution_count": 8,
     "metadata": {},
     "output_type": "execute_result"
    }
   ],
   "source": [
    "dados.dtype"
   ]
  },
  {
   "cell_type": "code",
   "execution_count": 9,
   "id": "604fe0d2",
   "metadata": {},
   "outputs": [
    {
     "data": {
      "text/plain": [
       "(2, 3)"
      ]
     },
     "execution_count": 9,
     "metadata": {},
     "output_type": "execute_result"
    }
   ],
   "source": [
    "dados.shape"
   ]
  },
  {
   "cell_type": "code",
   "execution_count": 10,
   "id": "d5c5f597",
   "metadata": {},
   "outputs": [
    {
     "data": {
      "text/plain": [
       "2"
      ]
     },
     "execution_count": 10,
     "metadata": {},
     "output_type": "execute_result"
    }
   ],
   "source": [
    "dados.ndim"
   ]
  },
  {
   "cell_type": "code",
   "execution_count": 11,
   "id": "bbd21116",
   "metadata": {},
   "outputs": [],
   "source": [
    "lista = [1,2,5,7.8,1.25]"
   ]
  },
  {
   "cell_type": "code",
   "execution_count": 12,
   "id": "62917851",
   "metadata": {},
   "outputs": [],
   "source": [
    "dados2 = np.array(lista)"
   ]
  },
  {
   "cell_type": "code",
   "execution_count": 13,
   "id": "2ccd1e0b",
   "metadata": {},
   "outputs": [
    {
     "data": {
      "text/plain": [
       "array([1.  , 2.  , 5.  , 7.8 , 1.25])"
      ]
     },
     "execution_count": 13,
     "metadata": {},
     "output_type": "execute_result"
    }
   ],
   "source": [
    "dados2"
   ]
  },
  {
   "cell_type": "code",
   "execution_count": 14,
   "id": "8ca04f95",
   "metadata": {},
   "outputs": [],
   "source": [
    "lista2 = [[1,2,3,4], [4,3,2,1]]"
   ]
  },
  {
   "cell_type": "code",
   "execution_count": 15,
   "id": "5c8fdaaa",
   "metadata": {},
   "outputs": [],
   "source": [
    "dados3 = np.array(lista2)"
   ]
  },
  {
   "cell_type": "code",
   "execution_count": 16,
   "id": "85391ab1",
   "metadata": {},
   "outputs": [
    {
     "data": {
      "text/plain": [
       "array([[1, 2, 3, 4],\n",
       "       [4, 3, 2, 1]])"
      ]
     },
     "execution_count": 16,
     "metadata": {},
     "output_type": "execute_result"
    }
   ],
   "source": [
    "dados3"
   ]
  },
  {
   "cell_type": "code",
   "execution_count": 17,
   "id": "3458c36f",
   "metadata": {},
   "outputs": [],
   "source": [
    "dadoszero = np.zeros(10)"
   ]
  },
  {
   "cell_type": "code",
   "execution_count": 18,
   "id": "11079e87",
   "metadata": {},
   "outputs": [
    {
     "data": {
      "text/plain": [
       "array([0., 0., 0., 0., 0., 0., 0., 0., 0., 0.])"
      ]
     },
     "execution_count": 18,
     "metadata": {},
     "output_type": "execute_result"
    }
   ],
   "source": [
    "dadoszero"
   ]
  },
  {
   "cell_type": "code",
   "execution_count": 19,
   "id": "63cd0d7f",
   "metadata": {},
   "outputs": [],
   "source": [
    "dadoszero2 = np.zeros((2,3))"
   ]
  },
  {
   "cell_type": "code",
   "execution_count": 20,
   "id": "18afcf26",
   "metadata": {},
   "outputs": [
    {
     "data": {
      "text/plain": [
       "array([[0., 0., 0.],\n",
       "       [0., 0., 0.]])"
      ]
     },
     "execution_count": 20,
     "metadata": {},
     "output_type": "execute_result"
    }
   ],
   "source": [
    "dadoszero2"
   ]
  },
  {
   "cell_type": "code",
   "execution_count": 21,
   "id": "526aa558",
   "metadata": {},
   "outputs": [],
   "source": [
    "dadosum = np.ones(5)"
   ]
  },
  {
   "cell_type": "code",
   "execution_count": 22,
   "id": "c66b8d55",
   "metadata": {},
   "outputs": [
    {
     "data": {
      "text/plain": [
       "array([1., 1., 1., 1., 1.])"
      ]
     },
     "execution_count": 22,
     "metadata": {},
     "output_type": "execute_result"
    }
   ],
   "source": [
    "dadosum"
   ]
  },
  {
   "cell_type": "code",
   "execution_count": 24,
   "id": "1310f45f",
   "metadata": {},
   "outputs": [],
   "source": [
    "dadosseq = np.arange(10)"
   ]
  },
  {
   "cell_type": "code",
   "execution_count": 25,
   "id": "86422f70",
   "metadata": {},
   "outputs": [
    {
     "data": {
      "text/plain": [
       "array([0, 1, 2, 3, 4, 5, 6, 7, 8, 9])"
      ]
     },
     "execution_count": 25,
     "metadata": {},
     "output_type": "execute_result"
    }
   ],
   "source": [
    "dadosseq"
   ]
  },
  {
   "cell_type": "code",
   "execution_count": 26,
   "id": "c13fc7c8",
   "metadata": {},
   "outputs": [],
   "source": [
    "dadosseq2 = np.arange(0,20,2)"
   ]
  },
  {
   "cell_type": "code",
   "execution_count": 27,
   "id": "f81e725a",
   "metadata": {},
   "outputs": [
    {
     "data": {
      "text/plain": [
       "array([ 0,  2,  4,  6,  8, 10, 12, 14, 16, 18])"
      ]
     },
     "execution_count": 27,
     "metadata": {},
     "output_type": "execute_result"
    }
   ],
   "source": [
    "dadosseq2"
   ]
  },
  {
   "cell_type": "code",
   "execution_count": 29,
   "id": "6d274d96",
   "metadata": {},
   "outputs": [],
   "source": [
    "dadosseqf = dadosseq.astype(np.float64)"
   ]
  },
  {
   "cell_type": "code",
   "execution_count": 30,
   "id": "44e0bc0e",
   "metadata": {},
   "outputs": [
    {
     "data": {
      "text/plain": [
       "array([0., 1., 2., 3., 4., 5., 6., 7., 8., 9.])"
      ]
     },
     "execution_count": 30,
     "metadata": {},
     "output_type": "execute_result"
    }
   ],
   "source": [
    "dadosseqf"
   ]
  },
  {
   "cell_type": "code",
   "execution_count": 31,
   "id": "e0c6d5c9",
   "metadata": {},
   "outputs": [
    {
     "data": {
      "text/plain": [
       "dtype('float64')"
      ]
     },
     "execution_count": 31,
     "metadata": {},
     "output_type": "execute_result"
    }
   ],
   "source": [
    "dadosseqf.dtype"
   ]
  },
  {
   "cell_type": "markdown",
   "id": "1050c842",
   "metadata": {},
   "source": [
    "Aritmética com Arrays"
   ]
  },
  {
   "cell_type": "code",
   "execution_count": 33,
   "id": "b66969bb",
   "metadata": {},
   "outputs": [],
   "source": [
    "da4 = np.array([[1,2,3],[4,5,6]])"
   ]
  },
  {
   "cell_type": "code",
   "execution_count": 34,
   "id": "edcf7e83",
   "metadata": {},
   "outputs": [
    {
     "data": {
      "text/plain": [
       "array([[1, 2, 3],\n",
       "       [4, 5, 6]])"
      ]
     },
     "execution_count": 34,
     "metadata": {},
     "output_type": "execute_result"
    }
   ],
   "source": [
    "da4"
   ]
  },
  {
   "cell_type": "code",
   "execution_count": 35,
   "id": "53deea78",
   "metadata": {},
   "outputs": [
    {
     "data": {
      "text/plain": [
       "array([[ 1,  4,  9],\n",
       "       [16, 25, 36]])"
      ]
     },
     "execution_count": 35,
     "metadata": {},
     "output_type": "execute_result"
    }
   ],
   "source": [
    "da4*da4"
   ]
  },
  {
   "cell_type": "code",
   "execution_count": 37,
   "id": "c1c10080",
   "metadata": {},
   "outputs": [
    {
     "data": {
      "text/plain": [
       "array([[0, 0, 0],\n",
       "       [0, 0, 0]])"
      ]
     },
     "execution_count": 37,
     "metadata": {},
     "output_type": "execute_result"
    }
   ],
   "source": [
    "da4-da4"
   ]
  },
  {
   "cell_type": "code",
   "execution_count": 36,
   "id": "0e3378d7",
   "metadata": {},
   "outputs": [
    {
     "data": {
      "text/plain": [
       "array([[1.        , 0.5       , 0.33333333],\n",
       "       [0.25      , 0.2       , 0.16666667]])"
      ]
     },
     "execution_count": 36,
     "metadata": {},
     "output_type": "execute_result"
    }
   ],
   "source": [
    "1/da4"
   ]
  },
  {
   "cell_type": "code",
   "execution_count": 46,
   "id": "041c8bb1",
   "metadata": {},
   "outputs": [],
   "source": [
    "d5 = da4 + da4"
   ]
  },
  {
   "cell_type": "code",
   "execution_count": 47,
   "id": "f14dc25d",
   "metadata": {},
   "outputs": [
    {
     "data": {
      "text/plain": [
       "array([[ 2,  4,  6],\n",
       "       [ 8, 10, 12]])"
      ]
     },
     "execution_count": 47,
     "metadata": {},
     "output_type": "execute_result"
    }
   ],
   "source": [
    "d5"
   ]
  },
  {
   "cell_type": "code",
   "execution_count": 40,
   "id": "3d0db51f",
   "metadata": {},
   "outputs": [
    {
     "data": {
      "text/plain": [
       "array([[1, 2, 3],\n",
       "       [4, 5, 6]])"
      ]
     },
     "execution_count": 40,
     "metadata": {},
     "output_type": "execute_result"
    }
   ],
   "source": [
    "da4"
   ]
  },
  {
   "cell_type": "code",
   "execution_count": 48,
   "id": "38ed14fc",
   "metadata": {},
   "outputs": [
    {
     "data": {
      "text/plain": [
       "array([[ True,  True,  True],\n",
       "       [ True,  True,  True]])"
      ]
     },
     "execution_count": 48,
     "metadata": {},
     "output_type": "execute_result"
    }
   ],
   "source": [
    "d5>da4"
   ]
  },
  {
   "cell_type": "markdown",
   "id": "3a21b6f7",
   "metadata": {},
   "source": [
    "Indexação"
   ]
  },
  {
   "cell_type": "code",
   "execution_count": 49,
   "id": "099003a7",
   "metadata": {},
   "outputs": [
    {
     "data": {
      "text/plain": [
       "array([0, 1, 2, 3, 4, 5, 6, 7, 8, 9])"
      ]
     },
     "execution_count": 49,
     "metadata": {},
     "output_type": "execute_result"
    }
   ],
   "source": [
    "dadosseq"
   ]
  },
  {
   "cell_type": "code",
   "execution_count": 50,
   "id": "aeefdf86",
   "metadata": {},
   "outputs": [
    {
     "data": {
      "text/plain": [
       "5"
      ]
     },
     "execution_count": 50,
     "metadata": {},
     "output_type": "execute_result"
    }
   ],
   "source": [
    "dadosseq[5]"
   ]
  },
  {
   "cell_type": "markdown",
   "id": "d71d0aa2",
   "metadata": {},
   "source": [
    "Diferente de uma lista python, um recorte (fatia) de ndarray sofrerá broadcast - é como se fosse uma view de banco de dados.\n",
    "\n",
    "Com conjuntos imensos de dados isso é uma grande vantagem em relação a performance"
   ]
  },
  {
   "cell_type": "code",
   "execution_count": 51,
   "id": "6a6d176d",
   "metadata": {},
   "outputs": [
    {
     "data": {
      "text/plain": [
       "array([3, 4, 5])"
      ]
     },
     "execution_count": 51,
     "metadata": {},
     "output_type": "execute_result"
    }
   ],
   "source": [
    "dadosseq[3:6]"
   ]
  },
  {
   "cell_type": "code",
   "execution_count": 52,
   "id": "718dc237",
   "metadata": {},
   "outputs": [],
   "source": [
    "dadosseq[3:6]=20"
   ]
  },
  {
   "cell_type": "code",
   "execution_count": 53,
   "id": "d69c7613",
   "metadata": {},
   "outputs": [
    {
     "data": {
      "text/plain": [
       "array([ 0,  1,  2, 20, 20, 20,  6,  7,  8,  9])"
      ]
     },
     "execution_count": 53,
     "metadata": {},
     "output_type": "execute_result"
    }
   ],
   "source": [
    "dadosseq"
   ]
  },
  {
   "cell_type": "code",
   "execution_count": 54,
   "id": "30eae758",
   "metadata": {},
   "outputs": [],
   "source": [
    "fatia = dadosseq[2:4]"
   ]
  },
  {
   "cell_type": "code",
   "execution_count": 55,
   "id": "fb464bbf",
   "metadata": {},
   "outputs": [
    {
     "data": {
      "text/plain": [
       "array([ 2, 20])"
      ]
     },
     "execution_count": 55,
     "metadata": {},
     "output_type": "execute_result"
    }
   ],
   "source": [
    "fatia"
   ]
  },
  {
   "cell_type": "code",
   "execution_count": 56,
   "id": "73a9f275",
   "metadata": {},
   "outputs": [],
   "source": [
    "fatia[1]=2000"
   ]
  },
  {
   "cell_type": "code",
   "execution_count": 57,
   "id": "082277f5",
   "metadata": {},
   "outputs": [
    {
     "data": {
      "text/plain": [
       "array([   2, 2000])"
      ]
     },
     "execution_count": 57,
     "metadata": {},
     "output_type": "execute_result"
    }
   ],
   "source": [
    "fatia"
   ]
  },
  {
   "cell_type": "code",
   "execution_count": 58,
   "id": "e5574dcd",
   "metadata": {},
   "outputs": [
    {
     "data": {
      "text/plain": [
       "array([   0,    1,    2, 2000,   20,   20,    6,    7,    8,    9])"
      ]
     },
     "execution_count": 58,
     "metadata": {},
     "output_type": "execute_result"
    }
   ],
   "source": [
    "dadosseq"
   ]
  },
  {
   "cell_type": "code",
   "execution_count": 59,
   "id": "734507d3",
   "metadata": {},
   "outputs": [],
   "source": [
    "fatia[:]=333"
   ]
  },
  {
   "cell_type": "code",
   "execution_count": 60,
   "id": "738e1d47",
   "metadata": {},
   "outputs": [
    {
     "data": {
      "text/plain": [
       "array([  0,   1, 333, 333,  20,  20,   6,   7,   8,   9])"
      ]
     },
     "execution_count": 60,
     "metadata": {},
     "output_type": "execute_result"
    }
   ],
   "source": [
    "dadosseq"
   ]
  },
  {
   "cell_type": "markdown",
   "id": "686d43d9",
   "metadata": {},
   "source": [
    "Copiar dados"
   ]
  },
  {
   "cell_type": "code",
   "execution_count": 61,
   "id": "c0ed5977",
   "metadata": {},
   "outputs": [],
   "source": [
    "f2 = dadosseq[2:4].copy()"
   ]
  },
  {
   "cell_type": "code",
   "execution_count": 62,
   "id": "1bf3eb6c",
   "metadata": {},
   "outputs": [],
   "source": [
    "f2[:]=111"
   ]
  },
  {
   "cell_type": "code",
   "execution_count": 63,
   "id": "6fd8511c",
   "metadata": {},
   "outputs": [
    {
     "data": {
      "text/plain": [
       "array([111, 111])"
      ]
     },
     "execution_count": 63,
     "metadata": {},
     "output_type": "execute_result"
    }
   ],
   "source": [
    "f2"
   ]
  },
  {
   "cell_type": "code",
   "execution_count": 64,
   "id": "df6a5ea4",
   "metadata": {},
   "outputs": [
    {
     "data": {
      "text/plain": [
       "array([  0,   1, 333, 333,  20,  20,   6,   7,   8,   9])"
      ]
     },
     "execution_count": 64,
     "metadata": {},
     "output_type": "execute_result"
    }
   ],
   "source": [
    "dadosseq"
   ]
  },
  {
   "cell_type": "markdown",
   "id": "4964bcff",
   "metadata": {},
   "source": [
    "Array com mais de uma dimensão"
   ]
  },
  {
   "cell_type": "code",
   "execution_count": 65,
   "id": "f0451620",
   "metadata": {},
   "outputs": [],
   "source": [
    "d6 = np.array([[1,2,3], [4,5,6], [7,8,9]])"
   ]
  },
  {
   "cell_type": "code",
   "execution_count": 66,
   "id": "a2bfa61a",
   "metadata": {},
   "outputs": [
    {
     "data": {
      "text/plain": [
       "array([[1, 2, 3],\n",
       "       [4, 5, 6],\n",
       "       [7, 8, 9]])"
      ]
     },
     "execution_count": 66,
     "metadata": {},
     "output_type": "execute_result"
    }
   ],
   "source": [
    "d6"
   ]
  },
  {
   "cell_type": "code",
   "execution_count": 67,
   "id": "cd1ba4a3",
   "metadata": {},
   "outputs": [
    {
     "data": {
      "text/plain": [
       "array([[4, 5, 6]])"
      ]
     },
     "execution_count": 67,
     "metadata": {},
     "output_type": "execute_result"
    }
   ],
   "source": [
    "d6[1:2]"
   ]
  },
  {
   "cell_type": "markdown",
   "id": "8cbedc90",
   "metadata": {},
   "source": [
    "Máscaras"
   ]
  },
  {
   "cell_type": "code",
   "execution_count": 68,
   "id": "9b51427a",
   "metadata": {},
   "outputs": [
    {
     "data": {
      "text/plain": [
       "array([  0,   1, 333, 333,  20,  20,   6,   7,   8,   9])"
      ]
     },
     "execution_count": 68,
     "metadata": {},
     "output_type": "execute_result"
    }
   ],
   "source": [
    "dadosseq"
   ]
  },
  {
   "cell_type": "code",
   "execution_count": 69,
   "id": "a94a62db",
   "metadata": {},
   "outputs": [],
   "source": [
    "masc = (dadosseq < 100)"
   ]
  },
  {
   "cell_type": "code",
   "execution_count": 70,
   "id": "8516efb0",
   "metadata": {},
   "outputs": [
    {
     "data": {
      "text/plain": [
       "array([ True,  True, False, False,  True,  True,  True,  True,  True,\n",
       "        True])"
      ]
     },
     "execution_count": 70,
     "metadata": {},
     "output_type": "execute_result"
    }
   ],
   "source": [
    "masc"
   ]
  },
  {
   "cell_type": "code",
   "execution_count": 71,
   "id": "9bbba869",
   "metadata": {},
   "outputs": [],
   "source": [
    "dadosseq[dadosseq<20]=8888 "
   ]
  },
  {
   "cell_type": "code",
   "execution_count": 72,
   "id": "b3e36dae",
   "metadata": {},
   "outputs": [
    {
     "data": {
      "text/plain": [
       "array([8888, 8888,  333,  333,   20,   20, 8888, 8888, 8888, 8888])"
      ]
     },
     "execution_count": 72,
     "metadata": {},
     "output_type": "execute_result"
    }
   ],
   "source": [
    "dadosseq"
   ]
  },
  {
   "cell_type": "markdown",
   "id": "33c289c1",
   "metadata": {},
   "source": [
    "Transposição"
   ]
  },
  {
   "cell_type": "code",
   "execution_count": 73,
   "id": "0a357b06",
   "metadata": {},
   "outputs": [],
   "source": [
    "d7 = np.arange(15).reshape((3,5))"
   ]
  },
  {
   "cell_type": "code",
   "execution_count": 74,
   "id": "23c54a8a",
   "metadata": {},
   "outputs": [
    {
     "data": {
      "text/plain": [
       "array([[ 0,  1,  2,  3,  4],\n",
       "       [ 5,  6,  7,  8,  9],\n",
       "       [10, 11, 12, 13, 14]])"
      ]
     },
     "execution_count": 74,
     "metadata": {},
     "output_type": "execute_result"
    }
   ],
   "source": [
    "d7"
   ]
  },
  {
   "cell_type": "code",
   "execution_count": 76,
   "id": "d3a6c5ed",
   "metadata": {},
   "outputs": [
    {
     "data": {
      "text/plain": [
       "array([[ 0,  5, 10],\n",
       "       [ 1,  6, 11],\n",
       "       [ 2,  7, 12],\n",
       "       [ 3,  8, 13],\n",
       "       [ 4,  9, 14]])"
      ]
     },
     "execution_count": 76,
     "metadata": {},
     "output_type": "execute_result"
    }
   ],
   "source": [
    "d7.T"
   ]
  },
  {
   "cell_type": "markdown",
   "id": "52a4612a",
   "metadata": {},
   "source": [
    "Multiplicação de matrzies com Dots"
   ]
  },
  {
   "cell_type": "code",
   "execution_count": 77,
   "id": "8dfdd640",
   "metadata": {},
   "outputs": [
    {
     "data": {
      "text/plain": [
       "array([[125, 140, 155, 170, 185],\n",
       "       [140, 158, 176, 194, 212],\n",
       "       [155, 176, 197, 218, 239],\n",
       "       [170, 194, 218, 242, 266],\n",
       "       [185, 212, 239, 266, 293]])"
      ]
     },
     "execution_count": 77,
     "metadata": {},
     "output_type": "execute_result"
    }
   ],
   "source": [
    "np.dot(d7.T, d7)"
   ]
  }
 ],
 "metadata": {
  "kernelspec": {
   "display_name": "base",
   "language": "python",
   "name": "python3"
  },
  "language_info": {
   "codemirror_mode": {
    "name": "ipython",
    "version": 3
   },
   "file_extension": ".py",
   "mimetype": "text/x-python",
   "name": "python",
   "nbconvert_exporter": "python",
   "pygments_lexer": "ipython3",
   "version": "3.12.7"
  }
 },
 "nbformat": 4,
 "nbformat_minor": 5
}
